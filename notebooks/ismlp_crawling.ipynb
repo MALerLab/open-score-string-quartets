{
 "cells": [
  {
   "cell_type": "code",
   "execution_count": 1,
   "metadata": {},
   "outputs": [
    {
     "name": "stdout",
     "output_type": "stream",
     "text": [
      "/home/dongmin/userdata/open-score-string-quartets\n"
     ]
    },
    {
     "name": "stderr",
     "output_type": "stream",
     "text": [
      "/home/dongmin/.local/share/virtualenvs/open-score-string-quartets-wd2Cnojv/lib/python3.10/site-packages/IPython/core/magics/osm.py:417: UserWarning: This is now an optional IPython functionality, setting dhist requires you to install the `pickleshare` library.\n",
      "  self.shell.db['dhist'] = compress_dhist(dhist)[-100:]\n"
     ]
    }
   ],
   "source": [
    "%cd ..\n",
    "%load_ext autoreload\n",
    "%autoreload 2"
   ]
  },
  {
   "cell_type": "code",
   "execution_count": 2,
   "metadata": {},
   "outputs": [],
   "source": [
    "import os\n",
    "import sys\n",
    "from pathlib import Path\n",
    "from collections import Counter, defaultdict\n",
    "from operator import itemgetter\n",
    "from tempfile import NamedTemporaryFile\n",
    "\n",
    "import math\n",
    "import random\n",
    "\n",
    "import json\n",
    "import csv\n",
    "import strictyaml as syaml\n",
    "\n",
    "from tqdm import tqdm\n",
    "import matplotlib.pyplot as plt\n",
    "\n",
    "import cv2\n",
    "import numpy as np\n",
    "import partitura as pt\n",
    "\n",
    "from bs4 import BeautifulSoup\n",
    "import requests"
   ]
  },
  {
   "cell_type": "markdown",
   "metadata": {},
   "source": [
    "## Load scores.yaml"
   ]
  },
  {
   "cell_type": "code",
   "execution_count": 3,
   "metadata": {},
   "outputs": [],
   "source": [
    "data_dir = Path('data')"
   ]
  },
  {
   "cell_type": "code",
   "execution_count": 4,
   "metadata": {},
   "outputs": [],
   "source": [
    "with open(data_dir / 'scores.yaml') as f:\n",
    "  metadata = syaml.load(f.read())\n",
    "\n",
    "metadata = metadata.data"
   ]
  },
  {
   "cell_type": "code",
   "execution_count": 5,
   "metadata": {},
   "outputs": [
    {
     "data": {
      "text/plain": [
       "122"
      ]
     },
     "execution_count": 5,
     "metadata": {},
     "output_type": "execute_result"
    }
   ],
   "source": [
    "len(metadata.keys())"
   ]
  },
  {
   "cell_type": "markdown",
   "metadata": {},
   "source": [
    "## crawl PDF URLs"
   ]
  },
  {
   "cell_type": "code",
   "execution_count": 6,
   "metadata": {},
   "outputs": [],
   "source": [
    "request_pdf_format = 'https://imslp.org/wiki/Special:ImagefromIndex/%(imslp_id)s/xe11'\n",
    "disclaimer_url_format = 'https://imslp.org/wiki/Special:IMSLPDisclaimerAccept/%(imslp_id)s'"
   ]
  },
  {
   "cell_type": "code",
   "execution_count": 25,
   "metadata": {},
   "outputs": [
    {
     "name": "stderr",
     "output_type": "stream",
     "text": [
      "  0%|          | 0/122 [00:00<?, ?it/s]"
     ]
    },
    {
     "name": "stderr",
     "output_type": "stream",
     "text": [
      " 17%|█▋        | 21/122 [01:04<05:11,  3.08s/it]\n"
     ]
    },
    {
     "ename": "AttributeError",
     "evalue": "'NoneType' object has no attribute 'get'",
     "output_type": "error",
     "traceback": [
      "\u001b[0;31m---------------------------------------------------------------------------\u001b[0m",
      "\u001b[0;31mAttributeError\u001b[0m                            Traceback (most recent call last)",
      "Cell \u001b[0;32mIn[25], line 14\u001b[0m\n\u001b[1;32m     12\u001b[0m   pdf_url \u001b[38;5;241m=\u001b[39m res\u001b[38;5;241m.\u001b[39murl\n\u001b[1;32m     13\u001b[0m \u001b[38;5;28;01melse\u001b[39;00m:\n\u001b[0;32m---> 14\u001b[0m   pdf_url \u001b[38;5;241m=\u001b[39m \u001b[43msoup\u001b[49m\u001b[38;5;241;43m.\u001b[39;49m\u001b[43mselect_one\u001b[49m\u001b[43m(\u001b[49m\u001b[38;5;124;43m'\u001b[39;49m\u001b[38;5;124;43m#sm_dl_wait\u001b[39;49m\u001b[38;5;124;43m'\u001b[39;49m\u001b[43m)\u001b[49m\u001b[38;5;241;43m.\u001b[39;49m\u001b[43mget\u001b[49m(\u001b[38;5;124m'\u001b[39m\u001b[38;5;124mdata-id\u001b[39m\u001b[38;5;124m'\u001b[39m)\n\u001b[1;32m     16\u001b[0m metadata[mscore_id][\u001b[38;5;124m'\u001b[39m\u001b[38;5;124mimslp_url\u001b[39m\u001b[38;5;124m'\u001b[39m] \u001b[38;5;241m=\u001b[39m pdf_url\n",
      "\u001b[0;31mAttributeError\u001b[0m: 'NoneType' object has no attribute 'get'"
     ]
    }
   ],
   "source": [
    "for mscore_id, obj in tqdm(metadata.items()):\n",
    "  imslp_id = obj['imslp'][1:]\n",
    "  \n",
    "  res = requests.get(request_pdf_format % { 'imslp_id': imslp_id })\n",
    "  soup = BeautifulSoup(res.text, 'lxml')\n",
    "  \n",
    "  if 'Disclaimer' in soup.title.string:\n",
    "    res = requests.get(disclaimer_url_format % { 'imslp_id': imslp_id })\n",
    "    soup = BeautifulSoup(res.text, 'lxml')\n",
    "  \n",
    "  if '.pdf' in res.url:\n",
    "    pdf_url = res.url\n",
    "  else:\n",
    "    pdf_url = soup.select_one('#sm_dl_wait').get('data-id')\n",
    "  \n",
    "  metadata[mscore_id]['imslp_url'] = pdf_url"
   ]
  },
  {
   "cell_type": "code",
   "execution_count": 27,
   "metadata": {},
   "outputs": [
    {
     "data": {
      "text/plain": [
       "<html><body><p>You have reached this message because the site ripping ban script has been triggered. Site ripping is forbidden; repeated offenders will be banned indefinitely.<br/>\n",
       "<br/>\n",
       "I sincerely apologize if you have reached this message without using a site ripper; the site ripping ban script is very much a work in progress, and it is inevitable that there will be mistaken bans. You will be automatically unbanned after a short period of time, though this will increase exponentially should you get banned again. Also, it would be very much appreciated if you can drop an e-mail to feldmahler {at} imslp.org explaining the circumstances, along with your IP address (which is <b>163.239.15.35</b>), so that I can decrease the incidences of mistaken banning. Due to the volume of e-mails I receive, I may not respond to your report, but all reports are very much appreciated.<br/>\n",
       "<br/>\n",
       "<b>Please do not reload this page often, because every reload refreshes the ban length.</b> Instead, come back in a day. This mechanism exists because site ripping bots cannot read this message.</p></body></html>"
      ]
     },
     "execution_count": 27,
     "metadata": {},
     "output_type": "execute_result"
    }
   ],
   "source": [
    "soup"
   ]
  },
  {
   "cell_type": "code",
   "execution_count": 30,
   "metadata": {},
   "outputs": [
    {
     "data": {
      "text/plain": [
       "\"7313978:\\n  path: Andrée,_Elfrida/String_Quartet_in_A_major\\n  name: String Quartet in A major\\n  link: https://musescore.com/openscore-string-quartets/scores/7313978\\n  imslp: '#415720'\\n  set_id: 5108429\\n  imslp_url: https://vmirror.imslp.org/files/imglnks/usimg/8/8a/IMSLP415720-PMLP674153-Andree_Elfrida_Kvartett_Strakar_Autograf.pdf\\n13744399:\\n  path: Arriaga,_Juan_Crisóstomo_de/String_Quartet_No.1_in_D_minor\\n  name: String Quartet No.1 in D minor\\n  link: https://musescore.com/openscore-string-quartets/scores/13744399\\n  imslp: '#33857'\\n  set_id: 5116346\\n  imslp_url: https://s9.imslp.org/files/imglnks/usimg/c/cb/IMSLP33857-PMLP29989-Violin_I-1-.pdf\\n7383977:\\n  path: Arriaga,_Juan_Crisóstomo_de/String_Quartet_No.3_in_E-flat_Major\\n  name: String Quartet No.3 in E-flat Major\\n  link: https://musescore.com/openscore-string-quartets/scores/7383977\\n  imslp: '#576844'\\n  set_id: 5116350\\n  imslp_url: https://ks15.imslp.org/files/imglnks/usimg/0/03/IMSLP576844-PMLP29989-JCdeArriago_Cuarteto-n3_score-part.pdf\\n7295726:\\n  path: Bartók,_Béla/String_Quartet_No.1,_Op.7_(Sz.40)\\n  name: String Quartet No.1, Op.7 (Sz.40)\\n  link: https://musescore.com/openscore-string-quartets/scores/7295726\\n  imslp: '#18895'\\n  set_id: 5108579\\n  imslp_url: https://vmirror.imslp.org/files/imglnks/usimg/1/13/IMSLP18895-PMLP12567-Bartók_-_String_Quartet_No._1,_Op._7_(score).pdf\\n8741475:\\n  path: Bartók,_Béla/String_Quartet_No.2,_Op.17_(Sz.67)\\n  name: String Quartet No.2, Op.17 (Sz.67)\\n  link: https://musescore.com/openscore-string-quartets/scores/8741475\\n  imslp: '#18943'\\n  set_id: 5530433\\n  imslp_url: https://vmirror.imslp.org/files/imglnks/usimg/d/dd/IMSLP18943-PMLP12579-Bartók_-_String_Quartet_No._2,_Op._17_(score).pdf\\n14387632:\\n  path: Beach,_Amy/String_Quartet,_Op._89\\n  name: String Quartet, Op. 89\\n  link: https://musescore.com/openscore-string-quartets/scores/14387632\\n  imslp: '#843310'\\n  set_id: 6406540\\n  imslp_url: https://imslp.eu/linkhandler.php?path=/imglnks/euimg/b/b0/IMSLP843310-PMLP1326806-Amy_Beach_-_String_Quartet_Op89_(Full_Score,_A-R,_1994).pdf\\n10502527:\\n  path: Beethoven,_Ludwig_van/Grosse_Fuge_in_B-flat_major,_Op.133\\n  name: Grosse Fuge in B-flat major, Op.133\\n  link: https://musescore.com/openscore-string-quartets/scores/10502527\\n  imslp: '#04771'\\n  set_id: 5108656\\n  imslp_url: https://ks15.imslp.org/files/imglnks/usimg/5/5c/IMSLP04771-Beethoven_-_Grosse_Fuge_Dover.pdf\\n8071278:\\n  path: Beethoven,_Ludwig_van/String_Quartet_No.1,_Op.18_No.1\\n  name: String Quartet No.1, Op.18 No.1\\n  link: https://musescore.com/openscore-string-quartets/scores/8071278\\n  imslp: '#04755'\\n  set_id: 5108454\\n  imslp_url: https://vmirror.imslp.org/files/imglnks/usimg/7/7f/IMSLP04755-Beethoven_-_String_Quartet_No.1_Dover.pdf\\n10527526:\\n  path: Beethoven,_Ludwig_van/String_Quartet_No.12,_Op.127\\n  name: String Quartet No.12, Op.127\\n  link: https://musescore.com/openscore-string-quartets/scores/10527526\\n  imslp: '#04766'\\n  set_id: 5108657\\n  imslp_url: https://vmirror.imslp.org/files/imglnks/usimg/9/96/IMSLP04766-Beethoven_-_String_Quartet_No.12_Dover.pdf\\n11539384:\\n  path: Beethoven,_Ludwig_van/String_Quartet_No.13_in_B♭_major,_Op.130\\n  name: String Quartet No.13 in B♭ major, Op.130\\n  link: https://musescore.com/openscore-string-quartets/scores/11539384\\n  imslp: '#04767'\\n  set_id: 5108658\\n  imslp_url: https://vmirror.imslp.org/files/imglnks/usimg/4/4d/IMSLP04767-Beethoven_-_String_Quartet_No.13_Dover.pdf\\n8853405:\\n  path: Beethoven,_Ludwig_van/String_Quartet_No.2,_Op.18_No.2\\n  name: String Quartet No.2, Op.18 No.2\\n  link: https://musescore.com/openscore-string-quartets/scores/8853405\\n  imslp: '#04756'\\n  set_id: 5108476\\n  imslp_url: https://s9.imslp.org/files/imglnks/usimg/8/8a/IMSLP04756-Beethoven_-_String_Quartet_No.2_Dover.pdf\\n8907120:\\n  path: Beethoven,_Ludwig_van/String_Quartet_No.3,_Op.18_No.3\\n  name: String Quartet No.3, Op.18 No.3\\n  link: https://musescore.com/openscore-string-quartets/scores/8907120\\n  imslp: '#04757'\\n  set_id: 5108477\\n  imslp_url: https://s9.imslp.org/files/imglnks/usimg/e/ea/IMSLP04757-Beethoven_-_String_Quartet_No.3_Dover.pdf\\n8913219:\\n  path: Beethoven,_Ludwig_van/String_Quartet_No.4,_Op.18_No.4\\n  name: String Quartet No.4, Op.18 No.4\\n  link: https://musescore.com/openscore-string-quartets/scores/8913219\\n  imslp: '#04758'\\n  set_id: 5108478\\n  imslp_url: https://vmirror.imslp.org/files/imglnks/usimg/2/26/IMSLP04758-Beethoven_-_String_Quartet_No.4_Dover.pdf\\n9396439:\\n  path: Beethoven,_Ludwig_van/String_Quartet_No.5,_Op.18_No.5\\n  name: String Quartet No.5, Op.18 No.5\\n  link: https://musescore.com/openscore-string-quartets/scores/9396439\\n  imslp: '#04759'\\n  set_id: 5108479\\n  imslp_url: https://s9.imslp.org/files/imglnks/usimg/a/ab/IMSLP04759-Beethoven_-_String_Quartet_No.5_Dover.pdf\\n9719026:\\n  path: Beethoven,_Ludwig_van/String_Quartet_No.6,_Op.18_No.6\\n  name: String Quartet No.6, Op.18 No.6\\n  link: https://musescore.com/openscore-string-quartets/scores/9719026\\n  imslp: '#04760'\\n  set_id: 5108480\\n  imslp_url: https://ks15.imslp.org/files/imglnks/usimg/c/c7/IMSLP04760-Beethoven_-_String_Quartet_No.6_Dover.pdf\\n7872392:\\n  path: Beethoven,_Ludwig_van/String_Quartet_No.9,_Op.59_No.3\\n  name: String Quartet No.9, Op.59 No.3\\n  link: https://musescore.com/openscore-string-quartets/scores/7872392\\n  imslp: '#04763'\\n  set_id: 5193359\\n  imslp_url: https://ks15.imslp.org/files/imglnks/usimg/9/98/IMSLP04763-Beethoven_-_String_Quartet_No.9_Dover.pdf\\n8454356:\\n  path: Boccherini,_Luigi/String_Quartet_in_A_major,_G.213_(Op.39)\\n  name: String Quartet in A major, G.213 (Op.39)\\n  link: https://musescore.com/openscore-string-quartets/scores/8454356\\n  imslp: '#78818'\\n  set_id: 5108580\\n  imslp_url: https://s9.imslp.org/files/imglnks/usimg/f/f4/IMSLP78818-PMLP159484-Opus-39.pdf\\n8811375:\\n  path: Borodin,_Alexander/String_Quartet_No.1\\n  name: String Quartet No.1\\n  link: https://musescore.com/openscore-string-quartets/scores/8811375\\n  imslp: '#114629'\\n  set_id: 5108581\\n  imslp_url: https://s9.imslp.org/files/imglnks/usimg/c/cb/IMSLP114629-PMLP19369-Borodin_-_String_Quartet_No1_FS_rsl.pdf\\n10675759:\\n  path: Borodin,_Alexander/String_Quartet_No.2\\n  name: String Quartet No.2\\n  link: https://musescore.com/openscore-string-quartets/scores/10675759\\n  imslp: '#644692'\\n  set_id: 5108662\\n  imslp_url: https://ks15.imslp.org/files/imglnks/usimg/5/58/IMSLP644692-PMLP19373-Borodin.pdf\\n7108150:\\n  path: Brahms,_Johannes/String_Quartet_No.1,_Op.51_No.1\\n  name: String Quartet No.1, Op.51 No.1\\n  link: https://musescore.com/openscore-string-quartets/scores/7108150\\n  imslp: '#242305'\\n  set_id: 5108531\\n  imslp_url: https://ks15.imslp.org/files/imglnks/usimg/5/5f/IMSLP242305-PMLP13793-Brahms_Werke_Band_7_Breitkopf_JB_22_Op_51_No_1_scan.pdf\\n7302602:\\n  path: Brahms,_Johannes/String_Quartet_No.2,_Op.51_No.2\\n  name: String Quartet No.2, Op.51 No.2\\n  link: https://musescore.com/openscore-string-quartets/scores/7302602\\n  imslp: '#242310'\\n  set_id: 5108532\\n  imslp_url: https://ks15.imslp.org/files/imglnks/usimg/b/b9/IMSLP242310-PMLP22216-Brahms_Werke_Band_7_Breitkopf_JB_23_Op_51_No_2_scan.pdf\\n8928855:\\n  path: Brahms,_Johannes/String_Quartet_No.3,_Op.67\\n  name: String Quartet No.3, Op.67\\n  link: https://musescore.com/openscore-string-quartets/scores/8928855\\n  imslp: '#242312'\\n  set_id: 5108542\\n8938822:\\n  path: Bridge,_Frank/String_Quartet_No.1,_H.70\\n  name: String Quartet No.1, H.70\\n  link: https://musescore.com/openscore-string-quartets/scores/8938822\\n  imslp: '#405431'\\n  set_id: 5108724\\n9094235:\\n  path: Bridge,_Frank/String_Quartet_No.2,_H.115\\n  name: String Quartet No.2, H.115\\n  link: https://musescore.com/openscore-string-quartets/scores/9094235\\n  imslp: '#71919'\\n  set_id: 5683980\\n11154985:\\n  path: Busoni,_Ferruccio/String_Quartet_No.1,_Op.19,_BV_208\\n  name: String Quartet No.1, Op.19, BV 208\\n  link: https://musescore.com/openscore-string-quartets/scores/11154985\\n  imslp: '#33482'\\n  set_id: 5108682\\n7330550:\\n  path: Carreño,_Teresa/String_Quartet\\n  name: String Quartet\\n  link: https://musescore.com/openscore-string-quartets/scores/7330550\\n  imslp: '#65072'\\n  set_id: 5108430\\n11164006:\\n  path: Cherubini,_Luigi/String_Quartet_No.1\\n  name: String Quartet No.1\\n  link: https://musescore.com/openscore-string-quartets/scores/11164006\\n  imslp: '#05713'\\n  set_id: 5108725\\n8661306:\\n  path: Debussy,_Claude/String_Quartet_in_G_minor,_Op.10\\n  name: String Quartet in G minor, Op.10\\n  link: https://musescore.com/openscore-string-quartets/scores/8661306\\n  imslp: '#11939'\\n  set_id: 5108549\\n9790696:\\n  path: Delius,_Frederick/String_Quartet_in_E_minor\\n  name: String Quartet in E minor\\n  link: https://musescore.com/openscore-string-quartets/scores/9790696\\n  imslp: '#95663'\\n  set_id: 5108663\\n9137469:\\n  path: Dvořák,_Antonín/String_Quartet_No.10,_Op.51\\n  name: String Quartet No.10, Op.51\\n  link: https://musescore.com/openscore-string-quartets/scores/9137469\\n  imslp: '#407265'\\n  set_id: 5770845\\n8885439:\\n  path: Dvořák,_Antonín/String_Quartet_No.12,_Op.96_(“American”)\\n  name: String Quartet No.12, Op.96 (“American”)\\n  link: https://musescore.com/openscore-string-quartets/scores/8885439\\n  imslp: '#96276'\\n  set_id: 5108664\\n7362818:\\n  path: Elgar,_Edward/String_Quartet,_Op.83\\n  name: String Quartet, Op.83\\n  link: https://musescore.com/openscore-string-quartets/scores/7362818\\n  imslp: '#17231'\\n  set_id: 5108550\\n7358708:\\n  path: Fauré,_Gabriel/String_Quartet,_Op.121\\n  name: String Quartet, Op.121\\n  link: https://musescore.com/openscore-string-quartets/scores/7358708\\n  imslp: '#23028'\\n  set_id: 5108666\\n7358579:\\n  path: Glazunov,_Alexander/String_Quartet_No.1,_Op.1\\n  name: String Quartet No.1, Op.1\\n  link: https://musescore.com/openscore-string-quartets/scores/7358579\\n  imslp: '#65357'\\n  set_id: 5108543\\n14720995:\\n  path: Glinka,_Mikhail/String_Quartet\\n  name: String Quartet\\n  link: https://musescore.com/openscore-string-quartets/scores/14720995\\n  imslp: '#40373'\\n  set_id: 5108728\\n7434431:\\n  path: Gounod,_Charles/String_Quartet_No.3_in_A_minor\\n  name: String Quartet No.3 in A minor\\n  link: https://musescore.com/openscore-string-quartets/scores/7434431\\n  imslp: '#88976'\\n  set_id: 5108686\\n10406164:\\n  path: Gouvy,_Théodore/String_Quartet,_Op.16_No.1\\n  name: String Quartet, Op.16 No.1\\n  link: https://musescore.com/openscore-string-quartets/scores/10406164\\n  imslp: '#16842'\\n  set_id: 5108687\\n9631717:\\n  path: Grieg,_Edvard/String_Quartet_No.1,_Op.27\\n  name: String Quartet No.1, Op.27\\n  link: https://musescore.com/openscore-string-quartets/scores/9631717\\n  imslp: '#40157'\\n  set_id: 5108691\\n9146376:\\n  path: Haydn,_Joseph/String_Quartet_in_A_major,_Hob.III24,_Op.9_No.6\\n  name: String Quartet in A major, Hob.III:24, Op.9 No.6\\n  link: https://musescore.com/openscore-string-quartets/scores/9146376\\n  imslp: '#106807'\\n  set_id: 5769936\\n8796660:\\n  path: Haydn,_Joseph/String_Quartet_in_A_major,_Hob.III36,_Op.20_No.6\\n  name: String Quartet in A major, Hob.III:36, Op.20 No.6\\n  link: https://musescore.com/openscore-string-quartets/scores/8796660\\n  imslp: '#05273'\\n  set_id: 5178725\\n7114183:\\n  path: Haydn,_Joseph/String_Quartet_in_B_minor,_Hob.III68,_Op.64_No.2\\n  name: String Quartet in B minor, Hob.III:68, Op.64 No.2\\n  link: https://musescore.com/openscore-string-quartets/scores/7114183\\n  imslp: '#06536'\\n  set_id: 5108562\\n8461409:\\n  path: Haydn,_Joseph/String_Quartet_in_B-flat_major_(“La_Chasse”),_Hob._III1,_Op.1_No.1\\n  name: String Quartet in B-flat major (“La Chasse”), Hob. III:1, Op.1 No.1\\n  link: https://musescore.com/openscore-string-quartets/scores/8461409\\n  imslp: '#106785'\\n  set_id: 5446197\\n8556926:\\n  path: Haydn,_Joseph/String_Quartet_in_B-flat_major,_Hob.III5,_Op.1_No.5\\n  name: String Quartet in B-flat major, Hob.III:5, Op.1 No.5\\n  link: https://musescore.com/openscore-string-quartets/scores/8556926\\n  imslp: '#106789'\\n  set_id: 5470754\\n7123582:\\n  path: Haydn,_Joseph/String_Quartet_in_B-flat_major,_Hob.III67,_Op.64_No.3\\n  name: String Quartet in B-flat major, Hob.III:67, Op.64 No.3\\n  link: https://musescore.com/openscore-string-quartets/scores/7123582\\n  imslp: '#06537'\\n  set_id: 5108563\\n9961690:\\n  path: Haydn,_Joseph/String_Quartet_in_C_major,_Hob.III19,_Op.9_No.1\\n  name: String Quartet in C major, Hob.III:19, Op.9 No.1\\n  link: https://musescore.com/openscore-string-quartets/scores/9961690\\n  imslp: '#106803'\\n  set_id: 5769894\\n8088531:\\n  path: Haydn,_Joseph/String_Quartet_in_C_major,_Hob.III32,_Op.20_No.2\\n  name: String Quartet in C major, Hob.III:32, Op.20 No.2\\n  link: https://musescore.com/openscore-string-quartets/scores/8088531\\n  imslp: '#05269'\\n  set_id: 5178617\\n8806134:\\n  path: Haydn,_Joseph/String_Quartet_in_C_major,_Hob.III6,_Op.1_No.6\\n  name: String Quartet in C major, Hob.III:6, Op.1 No.6\\n  link: https://musescore.com/openscore-string-quartets/scores/8806134\\n  imslp: '#106790'\\n  set_id: 5470757\\n7127785:\\n  path: Haydn,_Joseph/String_Quartet_in_C_major,_Hob.III65,_Op.64_No.1\\n  name: String Quartet in C major, Hob.III:65, Op.64 No.1\\n  link: https://musescore.com/openscore-string-quartets/scores/7127785\\n  imslp: '#06535'\\n  set_id: 5108561\\n10372717:\\n  path: Haydn,_Joseph/String_Quartet_in_C_major,_Hob.III72,_Op.74_No.1\\n  name: String Quartet in C major, Hob.III:72, Op.74 No.1\\n  link: https://musescore.com/openscore-string-quartets/scores/10372717\\n  imslp: '#24480'\\n  set_id: 5954362\\n8806746:\\n  path: Haydn,_Joseph/String_Quartet_in_D_major,_Hob.III3,_Op.1_No.3\\n  name: String Quartet in D major, Hob.III:3, Op.1 No.3\\n  link: https://musescore.com/openscore-string-quartets/scores/8806746\\n  imslp: '#106787'\\n  set_id: 5470649\\n8509238:\\n  path: Haydn,_Joseph/String_Quartet_in_D_major,_Hob.III34,_Op.20_No.4\\n  name: String Quartet in D major, Hob.III:34, Op.20 No.4\\n  link: https://musescore.com/openscore-string-quartets/scores/8509238\\n  imslp: '#05271'\\n  set_id: 5178650\\n7284122:\\n  path: Haydn,_Joseph/String_Quartet_in_D_major,_Hob.III63,_Op.64_No.5\\n  name: String Quartet in D major, Hob.III:63, Op.64 No.5\\n  link: https://musescore.com/openscore-string-quartets/scores/7284122\\n  imslp: '#06557'\\n  set_id: 5108566\\n10414906:\\n  path: Haydn,_Joseph/String_Quartet_in_D_minor,_Hob.III22,_Op.9_No.4\\n  name: String Quartet in D minor, Hob.III:22, Op.9 No.4\\n  link: https://musescore.com/openscore-string-quartets/scores/10414906\\n  imslp: '#106805'\\n  set_id: 5769912\\n12772795:\\n  path: Haydn,_Joseph/String_Quartet_in_D_minor,_Hob.III76,_Op.76_No.2\\n  name: String Quartet in D minor, Hob.III:76, Op.76 No.2\\n  link: https://musescore.com/openscore-string-quartets/scores/12772795\\n  imslp: '#28078'\\n  set_id: 6403711\\n8806881:\\n  path: Haydn,_Joseph/String_Quartet_in_E-flat_major,_Hob.III2,_Op.1_No.2\\n  name: String Quartet in E-flat major, Hob.III:2, Op.1 No.2\\n  link: https://musescore.com/openscore-string-quartets/scores/8806881\\n  imslp: '#106786'\\n  set_id: 5446206\\n10328092:\\n  path: Haydn,_Joseph/String_Quartet_in_E-flat_major,_Hob.III20,_Op.9_No.2\\n  name: String Quartet in E-flat major, Hob.III:20, Op.9 No.2\\n  link: https://musescore.com/openscore-string-quartets/scores/10328092\\n  imslp: '#218820'\\n  set_id: 5769909\\n8075304:\\n  path: Haydn,_Joseph/String_Quartet_in_E-flat_major,_Hob.III31,_Op.20_No.1\\n  name: String Quartet in E-flat major, Hob.III:31, Op.20 No.1\\n  link: https://musescore.com/openscore-string-quartets/scores/8075304\\n  imslp: '#05268'\\n  set_id: 5178593\\n7300376:\\n  path: Haydn,_Joseph/String_Quartet_in_E-flat_major,_Hob.III64,_Op.64_No.6\\n  name: String Quartet in E-flat major, Hob.III:64, Op.64 No.6\\n  link: https://musescore.com/openscore-string-quartets/scores/7300376\\n  imslp: '#06558'\\n  set_id: 5108567\\n10307350:\\n  path: Haydn,_Joseph/String_Quartet_in_F_major,_Hob.III73,_Op.74_No.2\\n  name: String Quartet in F major, Hob.III:73, Op.74 No.2\\n  link: https://musescore.com/openscore-string-quartets/scores/10307350\\n  imslp: '#05817'\\n  set_id: 5954374\\n8807040:\\n  path: Haydn,_Joseph/String_Quartet_in_F_minor,_Hob.III35,_Op.20_No.5\\n  name: String Quartet in F minor, Hob.III:35, Op.20 No.5\\n  link: https://musescore.com/openscore-string-quartets/scores/8807040\\n  imslp: '#05272'\\n  set_id: 5178695\\n10381459:\\n  path: Haydn,_Joseph/String_Quartet_in_G_major,_Hob.III21,_Op.9_No.3\\n  name: String Quartet in G major, Hob.III:21, Op.9 No.3\\n  link: https://musescore.com/openscore-string-quartets/scores/10381459\\n  imslp: '#106804'\\n  set_id: 5769903\\n8807667:\\n  path: Haydn,_Joseph/String_Quartet_in_G_major,_Hob.III4,_Op.1_No.4\\n  name: String Quartet in G major, Hob.III:4, Op.1 No.4\\n  link: https://musescore.com/openscore-string-quartets/scores/8807667\\n  imslp: '#106788'\\n  set_id: 5470739\\n7249986:\\n  path: Haydn,_Joseph/String_Quartet_in_G_major,_Hob.III66,_Op.64,_No.4\\n  name: String Quartet in G major, Hob.III:66, Op.64, No.4\\n  link: https://musescore.com/openscore-string-quartets/scores/7249986\\n  imslp: '#06556'\\n  set_id: 5108564\\n15049456:\\n  path: Haydn,_Joseph/String_Quartet_in_G_major,_Hob.III75,_Op.76_No.1\\n  name: String Quartet in G major, Hob.III:75, Op.76 No.1\\n  link: https://musescore.com/openscore-string-quartets/scores/15049456\\n  imslp: '#28077'\\n  set_id: 6403696\\n8455808:\\n  path: Haydn,_Joseph/String_Quartet_in_G_minor,_Hob.III33,_Op.20_No.3\\n  name: String Quartet in G minor, Hob.III:33, Op.20 No.3\\n  link: https://musescore.com/openscore-string-quartets/scores/8455808\\n  imslp: '#05270'\\n  set_id: 5178638\\n10313029:\\n  path: Haydn,_Joseph/String_Quartet_in_G_minor,_Hob.III74,_Op.74_No.3_(The_Horseman)\\n  name: String Quartet in G minor, Hob.III:74, Op.74 No.3 (The Horseman)\\n  link: https://musescore.com/openscore-string-quartets/scores/10313029\\n  imslp: '#454620'\\n  set_id: 5954407\\n7577795:\\n  path: Hensel,_Fanny_(Mendelssohn)/String_Quartet_in_E-flat_major,_Op._277\\n  name: String Quartet in E-flat major, Op. 277\\n  link: https://musescore.com/openscore-string-quartets/scores/7577795\\n  imslp: '#746532'\\n  set_id: 5150345\\n12701461:\\n  path: Hoffmeister,_Franz_Anton/String_Quartet_No.9_in_D_major\\n  name: String Quartet No.9 in D major\\n  link: https://musescore.com/openscore-string-quartets/scores/12701461\\n  imslp: '#567348'\\n  set_id: 5108735\\n7354505:\\n  path: Indy,_Vincent_d’/String_Quartet_No.1,_Op.35\\n  name: String Quartet No.1, Op.35\\n  link: https://musescore.com/openscore-string-quartets/scores/7354505\\n  imslp: '#17471'\\n  set_id: 5108582\\n7158117:\\n  path: Janáček,_Leoš/String_Quartet_No.1_“Kreutzer_Sonata”\\n  name: String Quartet No.1 “Kreutzer Sonata”\\n  link: https://musescore.com/openscore-string-quartets/scores/7158117\\n  imslp: '#65455'\\n  set_id: 5108558\\n7267316:\\n  path: Janáček,_Leoš/String_Quartet_No.2_“Intimate_Letters”\\n  name: String Quartet No.2 “Intimate Letters”\\n  link: https://musescore.com/openscore-string-quartets/scores/7267316\\n  imslp: '#65456'\\n  set_id: 5108692\\n7384409:\\n  path: Kalliwoda,_Johann_Wenzel/String_Quartet_No.3,_Op.90\\n  name: String Quartet No.3, Op.90\\n  link: https://musescore.com/openscore-string-quartets/scores/7384409\\n  imslp: '#17328'\\n  set_id: 5108559\\n7524617:\\n  path: Krzyżanowska,_Halina/String_Quartet,_Op.44\\n  name: String Quartet, Op.44\\n  link: https://musescore.com/openscore-string-quartets/scores/7524617\\n  imslp: '#120481'\\n  set_id: 5108456\\n7551068:\\n  path: Maier,_Amanda/String_Quartet_in_A_major\\n  name: String Quartet in A major\\n  link: https://musescore.com/openscore-string-quartets/scores/7551068\\n  imslp: '#562387'\\n  set_id: 5108457\\n8818128:\\n  path: Mayer,_Emilie/String_Quartet_in_A_Major\\n  name: String Quartet in A Major\\n  link: https://musescore.com/openscore-string-quartets/scores/8818128\\n  imslp: '#748465'\\n  set_id: 5152007\\n7588853:\\n  path: Mayer,_Emilie/String_Quartet_in_D_Major\\n  name: String Quartet in D Major\\n  link: https://musescore.com/openscore-string-quartets/scores/7588853\\n  imslp: '#748464'\\n  set_id: 5152019\\n7556360:\\n  path: Mayer,_Emilie/String_Quartet_in_E_minor\\n  name: String Quartet in E minor\\n  link: https://musescore.com/openscore-string-quartets/scores/7556360\\n  imslp: '#327005'\\n  set_id: 5108504\\n7236909:\\n  path: Mayer,_Emilie/String_Quartet_in_G_minor,_Op.14\\n  name: String Quartet in G minor, Op.14\\n  link: https://musescore.com/openscore-string-quartets/scores/7236909\\n  imslp: '#70728'\\n  set_id: 5108458\\n7070319:\\n  path: Mayer,_Emilie/String_Quartet_in_G_minor,_Op.14\\n  name: String Quartet in G minor, Op.14\\n  link: https://musescore.com/openscore-string-quartets/scores/7070319\\n  imslp: '#70728'\\n  set_id: 5108458\\n7082029:\\n  path: Mayer,_Emilie/String_Quartet_in_G_minor,_Op.14\\n  name: String Quartet in G minor, Op.14\\n  link: https://musescore.com/openscore-string-quartets/scores/7082029\\n  imslp: '#70728'\\n  set_id: 5108458\\n7095930:\\n  path: Mayer,_Emilie/String_Quartet_in_G_minor,_Op.14\\n  name: String Quartet in G minor, Op.14\\n  link: https://musescore.com/openscore-string-quartets/scores/7095930\\n  imslp: '#70728'\\n  set_id: 5108458\\n8561633:\\n  path: Mendelssohn,_Felix/String_Quartet_No._6_in_F_Minor,_Op.80\\n  name: String Quartet No. 6 in F Minor, Op.80\\n  link: https://musescore.com/openscore-string-quartets/scores/8561633\\n  imslp: '#10976'\\n  set_id: 5514686\\n7224846:\\n  path: Mendelssohn,_Felix/String_Quartet_No.1,_Op.12\\n  name: String Quartet No.1, Op.12\\n  link: https://musescore.com/openscore-string-quartets/scores/7224846\\n  imslp: '#10971'\\n  set_id: 5108546\\n8885571:\\n  path: Mendelssohn,_Felix/String_Quartet_No.2,_Op.13\\n  name: String Quartet No.2, Op.13\\n  link: https://musescore.com/openscore-string-quartets/scores/8885571\\n  imslp: '#10972'\\n  set_id: 5108547\\n8623643:\\n  path: Mendelssohn,_Felix/String_Quartet_No.4_in_E_minor,_Op.44_No.2\\n  name: String Quartet No.4 in E minor, Op.44 No.2\\n  link: https://musescore.com/openscore-string-quartets/scores/8623643\\n  imslp: '#10974'\\n  set_id: 5514680\\n9071492:\\n  path: Moeran,_Ernest_John/String_Quartet_in_A_minor\\n  name: String Quartet in A minor\\n  link: https://musescore.com/openscore-string-quartets/scores/9071492\\n  imslp: '#555797'\\n  set_id: 5108846\\n15230467:\\n  path: Mozart,_Wolfgang_Amadeus/String_Quartet_No.1_in_G_major,_K.8073f\\n  name: String Quartet No.1 in G major, K.80/73f\\n  link: https://musescore.com/openscore-string-quartets/scores/15230467\\n  imslp: '#64041'\\n  set_id: 6406660\\n7103818:\\n  path: Mozart,_Wolfgang_Amadeus/String_Quartet_No.14_in_G_major,_K.387_(Op._10,_No._1)\\n  name: String Quartet No.14 in G major, K.387 (Op. 10, No. 1)\\n  link: https://musescore.com/openscore-string-quartets/scores/7103818\\n  imslp: '#64136'\\n  set_id: 5108511\\n7294793:\\n  path: Mozart,_Wolfgang_Amadeus/String_Quartet_No.15_in_D_minor,_K.421417b_(Op._10,_No._2)\\n  name: String Quartet No.15 in D minor, K.421/417b (Op. 10, No. 2)\\n  link: https://musescore.com/openscore-string-quartets/scores/7294793\\n  imslp: '#64137'\\n  set_id: 5108512\\n7302710:\\n  path: Mozart,_Wolfgang_Amadeus/String_Quartet_No.16_in_E-flat_major,_K.428421b_(Op._10,_No._4)\\n  name: String Quartet No.16 in E-flat major, K.428/421b (Op. 10, No. 4)\\n  link: https://musescore.com/openscore-string-quartets/scores/7302710\\n  imslp: '#64138'\\n  set_id: 5108513\\n7353137:\\n  path: Mozart,_Wolfgang_Amadeus/String_Quartet_No.17_in_B-flat_major,_K.458_(Op._10,_No._3)\\n  name: String Quartet No.17 in B-flat major, K.458 (Op. 10, No. 3)\\n  link: https://musescore.com/openscore-string-quartets/scores/7353137\\n  imslp: '#64140'\\n  set_id: 5108514\\n7093885:\\n  path: Mozart,_Wolfgang_Amadeus/String_Quartet_No.18_in_A_major,_K.464_(Op._10,_No._5)\\n  name: String Quartet No.18 in A major, K.464 (Op. 10, No. 5)\\n  link: https://musescore.com/openscore-string-quartets/scores/7093885\\n  imslp: '#64141'\\n  set_id: 5108515\\n7070781:\\n  path: Mozart,_Wolfgang_Amadeus/String_Quartet_No.18_in_A_major,_K.464_(Op._10,_No._5)\\n  name: String Quartet No.18 in A major, K.464 (Op. 10, No. 5)\\n  link: https://musescore.com/openscore-string-quartets/scores/7070781\\n  imslp: '#64141'\\n  set_id: 5108515\\n7078259:\\n  path: Mozart,_Wolfgang_Amadeus/String_Quartet_No.18_in_A_major,_K.464_(Op._10,_No._5)\\n  name: String Quartet No.18 in A major, K.464 (Op. 10, No. 5)\\n  link: https://musescore.com/openscore-string-quartets/scores/7078259\\n  imslp: '#64141'\\n  set_id: 5108515\\n7075297:\\n  path: Mozart,_Wolfgang_Amadeus/String_Quartet_No.18_in_A_major,_K.464_(Op._10,_No._5)\\n  name: String Quartet No.18 in A major, K.464 (Op. 10, No. 5)\\n  link: https://musescore.com/openscore-string-quartets/scores/7075297\\n  imslp: '#64141'\\n  set_id: 5108515\\n7471661:\\n  path: Mozart,_Wolfgang_Amadeus/String_Quartet_No.19_in_C_major,_K.465_(Op._10,_No._6)\\n  name: String Quartet No.19 in C major, K.465 (Op. 10, No. 6)\\n  link: https://musescore.com/openscore-string-quartets/scores/7471661\\n  imslp: '#64142'\\n  set_id: 5108516\\n12113164:\\n  path: Mozart,_Wolfgang_Amadeus/String_Quartet_No.2_in_D_major,_K.155134a\\n  name: String Quartet No.2 in D major, K.155/134a\\n  link: https://musescore.com/openscore-string-quartets/scores/12113164\\n  imslp: '#64042'\\n  set_id: 6406690\\n16138966:\\n  path: Mozart,_Wolfgang_Amadeus/String_Quartet_No.21_in_D_major,_K.575\\n  name: String Quartet No.21 in D major, K.575\\n  link: https://musescore.com/openscore-string-quartets/scores/16138966\\n  imslp: '#64145'\\n  set_id: 6406813\\n15730717:\\n  path: Mozart,_Wolfgang_Amadeus/String_Quartet_No.22_in_B-flat_major,_K.589\\n  name: String Quartet No.22 in B-flat major, K.589\\n  link: https://musescore.com/openscore-string-quartets/scores/15730717\\n  imslp: '#64148'\\n  set_id: 6406831\\n15624112:\\n  path: Mozart,_Wolfgang_Amadeus/String_Quartet_No.23_in_F_major,_K.590\\n  name: String Quartet No.23 in F major, K.590\\n  link: https://musescore.com/openscore-string-quartets/scores/15624112\\n  imslp: '#64149'\\n  set_id: 6406837\\n9199617:\\n  path: Mozart,_Wolfgang_Amadeus/String_Quartet_No.4_in_C_major,_K.157\\n  name: String Quartet No.4 in C major, K.157\\n  link: https://musescore.com/openscore-string-quartets/scores/9199617\\n  imslp: '#64122'\\n  set_id: 5790447\\n7541288:\\n  path: Müller-Hermann,_Johanna/String_Quartet,_Op.6\\n  name: String Quartet, Op.6\\n  link: https://musescore.com/openscore-string-quartets/scores/7541288\\n  imslp: '#557707'\\n  set_id: 5108505\\n12536479:\\n  path: Nielsen,_Carl/String_Quartet_No.1,_Op.13\\n  name: String Quartet No.1, Op.13\\n  link: https://musescore.com/openscore-string-quartets/scores/12536479\\n  imslp: '#173684'\\n  set_id: 5108849\\n8482283:\\n  path: Ravel,_Maurice/String_Quartet_in_F_major\\n  name: String Quartet in F major\\n  link: https://musescore.com/openscore-string-quartets/scores/8482283\\n  imslp: '#335585'\\n  set_id: 5108574\\n8940236:\\n  path: Reger,_Max/String_Quartet_No.1,_Op.54_No.1\\n  name: String Quartet No.1, Op.54 No.1\\n  link: https://musescore.com/openscore-string-quartets/scores/8940236\\n  imslp: '#53714'\\n  set_id: 5108850\\n8437358:\\n  path: Saint-Georges,_Joseph_Bologne/String_Quartet_in_C_major,_Op.1_No.1\\n  name: String Quartet in C major, Op.1 No.1\\n  link: https://musescore.com/openscore-string-quartets/scores/8437358\\n  imslp: '#80710'\\n  set_id: 5108602\\n8437280:\\n  path: Saint-Georges,_Joseph_Bologne/String_Quartet_in_C_minor,_Op.1_No.4\\n  name: String Quartet in C minor, Op.1 No.4\\n  link: https://musescore.com/openscore-string-quartets/scores/8437280\\n  imslp: '#80710'\\n  set_id: 5108605\\n10490761:\\n  path: Saint-Georges,_Joseph_Bologne/String_Quartet_in_D_major,_Op.1_No.6\\n  name: String Quartet in D major, Op.1 No.6\\n  link: https://musescore.com/openscore-string-quartets/scores/10490761\\n  imslp: '#80710'\\n  set_id: 5108607\\n8438840:\\n  path: Saint-Georges,_Joseph_Bologne/String_Quartet_in_E-flat_major,_Op.1_No.2\\n  name: String Quartet in E-flat major, Op.1 No.2\\n  link: https://musescore.com/openscore-string-quartets/scores/8438840\\n  imslp: '#80710'\\n  set_id: 5108603\\n8438915:\\n  path: Saint-Georges,_Joseph_Bologne/String_Quartet_in_G_minor,_Op.1_No.3\\n  name: String Quartet in G minor, Op.1 No.3\\n  link: https://musescore.com/openscore-string-quartets/scores/8438915\\n  imslp: '#80710'\\n  set_id: 5108604\\n8438999:\\n  path: Saint-Georges,_Joseph_Bologne/String_Quartet_in_G_minor,_Op.1_No.5\\n  name: String Quartet in G minor, Op.1 No.5\\n  link: https://musescore.com/openscore-string-quartets/scores/8438999\\n  imslp: '#80710'\\n  set_id: 5108606\\n7648382:\\n  path: Schubert,_Franz/String_Quartet_in_C_minor,_D.703\\n  name: String Quartet in C minor, D.703\\n  link: https://musescore.com/openscore-string-quartets/scores/7648382\\n  imslp: '#04039'\\n  set_id: 5162489\\n7397765:\\n  path: Schubert,_Franz/String_Quartet_in_D_minor,_D.810,_Op.14_(“Death_and_the_Maiden”)\\n  name: String Quartet in D minor, D.810, Op.14 (“Death and the Maiden”)\\n  link: https://musescore.com/openscore-string-quartets/scores/7397765\\n  imslp: '#04047'\\n  set_id: 5108909\\n8630159:\\n  path: Schulhoff,_Erwin/String_Quartet_No.1\\n  name: String Quartet No.1\\n  link: https://musescore.com/openscore-string-quartets/scores/8630159\\n  imslp: '#581718'\\n  set_id: 5108911\\n9010547:\\n  path: Schumann,_Robert/String_Quartet_No.1,_Op.41_No.1\\n  name: String Quartet No.1, Op.41 No.1\\n  link: https://musescore.com/openscore-string-quartets/scores/9010547\\n  imslp: '#289569'\\n  set_id: 5108569\\n9529900:\\n  path: Schumann,_Robert/String_Quartet_No.3,_Op.41_No.3\\n  name: String Quartet No.3, Op.41 No.3\\n  link: https://musescore.com/openscore-string-quartets/scores/9529900\\n  imslp: '#289667'\\n  set_id: 5108913\\n7483523:\\n  path: Smetana,_Bedřich/String_Quartet_No.1\\n  name: String Quartet No.1\\n  link: https://musescore.com/openscore-string-quartets/scores/7483523\\n  imslp: '#362678'\\n  set_id: 5108519\\n7555331:\\n  path: Smyth,_Ethel/String_Quartet_in_E_minor\\n  name: String Quartet in E minor\\n  link: https://musescore.com/openscore-string-quartets/scores/7555331\\n  imslp: '#346160'\\n  set_id: 5108481\\n10517302:\\n  path: Stanford,_Charles_Villiers/String_Quartet_No.1,_Op.44\\n  name: String Quartet No.1, Op.44\\n  link: https://musescore.com/openscore-string-quartets/scores/10517302\\n  imslp: '#67817'\\n  set_id: 5108861\\n9608209:\\n  path: Strauss,_Richard/String_Quartet_in_A_major,_Op.2\\n  name: String Quartet in A major, Op.2\\n  link: https://musescore.com/openscore-string-quartets/scores/9608209\\n  imslp: '#79337'\\n  set_id: 5108858\\n8812200:\\n  path: Wolf,_Hugo/Italian_Serenade\\n  name: Italian Serenade\\n  link: https://musescore.com/openscore-string-quartets/scores/8812200\\n  imslp: '#40911'\\n  set_id: 5626515\\n8823783:\\n  path: Wolf,_Hugo/String_Quartet\\n  name: String Quartet\\n  link: https://musescore.com/openscore-string-quartets/scores/8823783\\n  imslp: '#322751'\\n  set_id: 5574612\\n\""
      ]
     },
     "execution_count": 30,
     "metadata": {},
     "output_type": "execute_result"
    }
   ],
   "source": [
    "syaml.as_document(metadata).as_yaml()"
   ]
  },
  {
   "cell_type": "code",
   "execution_count": 16,
   "metadata": {},
   "outputs": [],
   "source": [
    "obj = metadata['7383977']\n",
    "imslp_id = obj['imslp'][1:]\n",
    "res = requests.get(request_pdf_format % {'imslp_id': imslp_id})"
   ]
  },
  {
   "cell_type": "code",
   "execution_count": 17,
   "metadata": {},
   "outputs": [],
   "source": [
    "soup = BeautifulSoup(res.text, \"lxml\")"
   ]
  },
  {
   "cell_type": "code",
   "execution_count": 18,
   "metadata": {},
   "outputs": [
    {
     "data": {
      "text/plain": [
       "'Disclaimer - IMSLP'"
      ]
     },
     "execution_count": 18,
     "metadata": {},
     "output_type": "execute_result"
    }
   ],
   "source": [
    "soup.title.string"
   ]
  },
  {
   "cell_type": "code",
   "execution_count": 19,
   "metadata": {},
   "outputs": [],
   "source": [
    "res = requests.get(disclaimer_url_format % {'imslp_id': imslp_id})"
   ]
  },
  {
   "cell_type": "code",
   "execution_count": 20,
   "metadata": {},
   "outputs": [],
   "source": [
    "soup = BeautifulSoup(res.text, \"lxml\")"
   ]
  },
  {
   "cell_type": "code",
   "execution_count": 24,
   "metadata": {},
   "outputs": [
    {
     "data": {
      "text/plain": [
       "'https://vmirror.imslp.org/files/imglnks/usimg/0/03/IMSLP576844-PMLP29989-JCdeArriago_Cuarteto-n3_score-part.pdf'"
      ]
     },
     "execution_count": 24,
     "metadata": {},
     "output_type": "execute_result"
    }
   ],
   "source": [
    "res.url"
   ]
  },
  {
   "cell_type": "code",
   "execution_count": 22,
   "metadata": {},
   "outputs": [
    {
     "data": {
      "text/plain": [
       "True"
      ]
     },
     "execution_count": 22,
     "metadata": {},
     "output_type": "execute_result"
    }
   ],
   "source": [
    "soup.title is None"
   ]
  },
  {
   "cell_type": "code",
   "execution_count": 27,
   "metadata": {},
   "outputs": [],
   "source": [
    "pdf_url = soup.select('#sm_dl_wait')[0].get('data-id')"
   ]
  },
  {
   "cell_type": "code",
   "execution_count": 29,
   "metadata": {},
   "outputs": [],
   "source": [
    "pdf_res = requests.get(pdf_url)"
   ]
  },
  {
   "cell_type": "code",
   "execution_count": null,
   "metadata": {},
   "outputs": [],
   "source": [
    "type(pdf_res.content)"
   ]
  }
 ],
 "metadata": {
  "kernelspec": {
   "display_name": "open-score-string-quartets-wd2Cnojv",
   "language": "python",
   "name": "python3"
  },
  "language_info": {
   "codemirror_mode": {
    "name": "ipython",
    "version": 3
   },
   "file_extension": ".py",
   "mimetype": "text/x-python",
   "name": "python",
   "nbconvert_exporter": "python",
   "pygments_lexer": "ipython3",
   "version": "3.10.12"
  }
 },
 "nbformat": 4,
 "nbformat_minor": 2
}
